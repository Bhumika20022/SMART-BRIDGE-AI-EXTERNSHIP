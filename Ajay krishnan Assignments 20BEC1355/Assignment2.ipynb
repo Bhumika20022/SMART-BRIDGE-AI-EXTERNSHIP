{
  "nbformat": 4,
  "nbformat_minor": 0,
  "metadata": {
    "colab": {
      "provenance": []
    },
    "kernelspec": {
      "name": "python3",
      "display_name": "Python 3"
    },
    "language_info": {
      "name": "python"
    }
  },
  "cells": [
    {
      "cell_type": "code",
      "execution_count": 1,
      "metadata": {
        "colab": {
          "base_uri": "https://localhost:8080/"
        },
        "id": "svA2xhfxOwsg",
        "outputId": "47e13a6f-1f89-457d-c921-5f6ff758167f"
      },
      "outputs": [
        {
          "output_type": "stream",
          "name": "stderr",
          "text": [
            "/usr/local/lib/python3.10/dist-packages/sklearn/base.py:439: UserWarning: X does not have valid feature names, but StandardScaler was fitted with feature names\n",
            "  warnings.warn(\n"
          ]
        },
        {
          "output_type": "stream",
          "name": "stdout",
          "text": [
            "1/1 [==============================] - 0s 252ms/step\n",
            "Predicted Labels:\n",
            "[2 2 2 2 2 2 2 2 2 2]\n"
          ]
        }
      ],
      "source": [
        "import pandas as pd\n",
        "import numpy as np\n",
        "from sklearn.model_selection import train_test_split\n",
        "from sklearn.preprocessing import LabelEncoder, StandardScaler\n",
        "import tensorflow as tf\n",
        "from tensorflow.keras.models import Sequential\n",
        "from tensorflow.keras.layers import Dense\n",
        "\n",
        "# Task 1: Read the dataset and do data preprocessing\n",
        "\n",
        "# Read the dataset\n",
        "df = pd.read_csv('drug200.csv')\n",
        "\n",
        "# Separate features (X) and labels (y)\n",
        "X = df.drop('Drug', axis=1)\n",
        "y = df['Drug']\n",
        "\n",
        "# Perform one-hot encoding on categorical variables (if needed)\n",
        "X = pd.get_dummies(X)\n",
        "\n",
        "# Split the dataset into training and testing sets\n",
        "X_train, X_test, y_train, y_test = train_test_split(X, y, test_size=0.2, random_state=42)\n",
        "\n",
        "# Apply feature scaling to normalize the input features\n",
        "scaler = StandardScaler()\n",
        "X_train_scaled = scaler.fit_transform(X_train)\n",
        "X_test_scaled = scaler.transform(X_test)\n",
        "\n",
        "# Task 2: Build the ANN model with input layer, minimum 3 hidden layers, and output layer\n",
        "\n",
        "# Define the model architecture\n",
        "model = Sequential()\n",
        "model.add(Dense(128, activation='relu', input_shape=(X_train.shape[1],)))\n",
        "model.add(Dense(64, activation='relu'))\n",
        "model.add(Dense(32, activation='relu'))\n",
        "model.add(Dense(16, activation='relu'))\n",
        "model.add(Dense(len(y.unique()), activation='softmax'))\n",
        "\n",
        "# Compile the model\n",
        "model.compile(optimizer='adam', loss='sparse_categorical_crossentropy', metrics=['accuracy'])\n",
        "\n",
        "# Task 3: Test the model with random data\n",
        "\n",
        "# Generate random data for testing\n",
        "random_data = np.random.randn(10, X_train.shape[1])\n",
        "\n",
        "# Scale the random data using the same scaler used for the training set\n",
        "random_data_scaled = scaler.transform(random_data)\n",
        "\n",
        "# Make predictions on the random data\n",
        "predictions = model.predict(random_data_scaled)\n",
        "\n",
        "# Convert predictions to class labels\n",
        "predicted_labels = np.argmax(predictions, axis=1)\n",
        "\n",
        "# Print the predicted labels\n",
        "print(\"Predicted Labels:\")\n",
        "print(predicted_labels)"
      ]
    }
  ]
}