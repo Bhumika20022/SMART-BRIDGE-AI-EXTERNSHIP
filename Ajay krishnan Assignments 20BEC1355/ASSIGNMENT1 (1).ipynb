{
  "nbformat": 4,
  "nbformat_minor": 0,
  "metadata": {
    "colab": {
      "provenance": []
    },
    "kernelspec": {
      "name": "python3",
      "display_name": "Python 3"
    },
    "language_info": {
      "name": "python"
    }
  },
  "cells": [
    {
      "cell_type": "markdown",
      "source": [
        "Task - 1 Create a pandas dataframe (DataFrame name as 'df') with numpy random values (4 features and 4 observation)"
      ],
      "metadata": {
        "id": "YByw3Bn50vrj"
      }
    },
    {
      "cell_type": "code",
      "execution_count": 11,
      "metadata": {
        "colab": {
          "base_uri": "https://localhost:8080/"
        },
        "id": "AvPXbiwvzH1j",
        "outputId": "af9a8b15-cca0-498c-89b6-8a6fb1645059"
      },
      "outputs": [
        {
          "output_type": "stream",
          "name": "stdout",
          "text": [
            "   Feature 1  Feature 2  Feature 3  Feature 4\n",
            "0   0.496714  -0.138264   0.647689   1.523030\n",
            "1  -0.234153  -0.234137   1.579213   0.767435\n",
            "2  -0.469474   0.542560  -0.463418  -0.465730\n",
            "3   0.241962  -1.913280  -1.724918  -0.562288\n"
          ]
        }
      ],
      "source": [
        "\n",
        "import pandas as pd\n",
        "import numpy as np\n",
        "\n",
        "# Set seed for reproducibility\n",
        "np.random.seed(42)\n",
        "\n",
        "# Create random data\n",
        "data = np.random.randn(4, 4)\n",
        "\n",
        "# Create column names\n",
        "columns = ['Feature 1', 'Feature 2', 'Feature 3', 'Feature 4']\n",
        "\n",
        "# Create DataFrame\n",
        "df = pd.DataFrame(data, columns=columns)\n",
        "\n",
        "# Print the DataFrame\n",
        "print(df)"
      ]
    },
    {
      "cell_type": "markdown",
      "source": [
        "Task - 2 Rename the task - 1 'df' dataframe column names to 'Random value 1', 'Random value 2', 'Random value 3' & 'Random value 4'"
      ],
      "metadata": {
        "id": "HMN3994R1F29"
      }
    },
    {
      "cell_type": "code",
      "source": [
        "\n",
        "\n",
        "# Rename column names\n",
        "new_columns = {'Feature 1': 'Random value 1',\n",
        "               'Feature 2': 'Random value 2',\n",
        "               'Feature 3': 'Random value 3',\n",
        "               'Feature 4': 'Random value 4'}\n",
        "\n",
        "df = df.rename(columns=new_columns)\n",
        "\n",
        "# Print the DataFrame\n",
        "print(df)\n"
      ],
      "metadata": {
        "colab": {
          "base_uri": "https://localhost:8080/"
        },
        "id": "Sz5-260Czi6p",
        "outputId": "9916b7d8-a1ad-499d-fe29-05e1ecfc1bb4"
      },
      "execution_count": 12,
      "outputs": [
        {
          "output_type": "stream",
          "name": "stdout",
          "text": [
            "   Random value 1  Random value 2  Random value 3  Random value 4\n",
            "0        0.496714       -0.138264        0.647689        1.523030\n",
            "1       -0.234153       -0.234137        1.579213        0.767435\n",
            "2       -0.469474        0.542560       -0.463418       -0.465730\n",
            "3        0.241962       -1.913280       -1.724918       -0.562288\n"
          ]
        }
      ]
    },
    {
      "cell_type": "markdown",
      "source": [
        "Task - 3 Find the descriptive statistics of the 'df' dataframe"
      ],
      "metadata": {
        "id": "yDiCyMPJ1RpN"
      }
    },
    {
      "cell_type": "code",
      "source": [
        "# Calculate descriptive statistics\n",
        "statistics = df.describe()\n",
        "\n",
        "# Print the descriptive statistics\n",
        "print(statistics)"
      ],
      "metadata": {
        "colab": {
          "base_uri": "https://localhost:8080/"
        },
        "id": "1nRl8iK2zjIM",
        "outputId": "fba68e8d-a536-4744-9231-6cb714c9ab55"
      },
      "execution_count": 13,
      "outputs": [
        {
          "output_type": "stream",
          "name": "stdout",
          "text": [
            "       Random value 1  Random value 2  Random value 3  Random value 4\n",
            "count        4.000000        4.000000        4.000000        4.000000\n",
            "mean         0.008762       -0.435780        0.009641        0.315612\n",
            "std          0.439772        1.043924        1.426317        1.007175\n",
            "min         -0.469474       -1.913280       -1.724918       -0.562288\n",
            "25%         -0.292984       -0.653923       -0.778793       -0.489869\n",
            "50%          0.003904       -0.186201        0.092135        0.150852\n",
            "75%          0.305650        0.031942        0.880570        0.956334\n",
            "max          0.496714        0.542560        1.579213        1.523030\n"
          ]
        }
      ]
    },
    {
      "cell_type": "markdown",
      "source": [
        "Task - 4 Check for the null values in 'df' and find the data type of the columns.\n"
      ],
      "metadata": {
        "id": "wVNPrfg81YE5"
      }
    },
    {
      "cell_type": "code",
      "source": [
        "# Check for null values\n",
        "null_values = df.isnull().sum()\n",
        "\n",
        "# Find data types of columns\n",
        "data_types = df.dtypes\n",
        "\n",
        "# Print the null values and data types\n",
        "print(\"Null values:\")\n",
        "print(null_values)\n",
        "print(\"\\nData types:\")\n",
        "print(data_types)"
      ],
      "metadata": {
        "colab": {
          "base_uri": "https://localhost:8080/"
        },
        "id": "RnCdOnjY0V61",
        "outputId": "7b644252-80f3-4fbc-eb86-4b200eeef53e"
      },
      "execution_count": 14,
      "outputs": [
        {
          "output_type": "stream",
          "name": "stdout",
          "text": [
            "Null values:\n",
            "Random value 1    0\n",
            "Random value 2    0\n",
            "Random value 3    0\n",
            "Random value 4    0\n",
            "dtype: int64\n",
            "\n",
            "Data types:\n",
            "Random value 1    float64\n",
            "Random value 2    float64\n",
            "Random value 3    float64\n",
            "Random value 4    float64\n",
            "dtype: object\n"
          ]
        }
      ]
    },
    {
      "cell_type": "markdown",
      "source": [
        "Task - 5 Display the 'Random value 2' & 'Random value 3' columns with location method and index location method"
      ],
      "metadata": {
        "id": "-pSfAvZ61gAL"
      }
    },
    {
      "cell_type": "code",
      "source": [
        "\n",
        "# Display columns using loc method\n",
        "loc_result = df.loc[:, ['Random value 2', 'Random value 3']]\n",
        "print(\"Using loc method:\")\n",
        "print(loc_result)\n",
        "\n",
        "# Display columns using iloc method\n",
        "iloc_result = df.iloc[:, [1, 2]]\n",
        "print(\"\\nUsing iloc method:\")\n",
        "print(iloc_result)"
      ],
      "metadata": {
        "colab": {
          "base_uri": "https://localhost:8080/"
        },
        "id": "Nm_ncX9U0V8Z",
        "outputId": "dac77db8-cad8-49b8-8827-638a976a3ca9"
      },
      "execution_count": 15,
      "outputs": [
        {
          "output_type": "stream",
          "name": "stdout",
          "text": [
            "Using loc method:\n",
            "   Random value 2  Random value 3\n",
            "0       -0.138264        0.647689\n",
            "1       -0.234137        1.579213\n",
            "2        0.542560       -0.463418\n",
            "3       -1.913280       -1.724918\n",
            "\n",
            "Using iloc method:\n",
            "   Random value 2  Random value 3\n",
            "0       -0.138264        0.647689\n",
            "1       -0.234137        1.579213\n",
            "2        0.542560       -0.463418\n",
            "3       -1.913280       -1.724918\n"
          ]
        }
      ]
    },
    {
      "cell_type": "code",
      "source": [],
      "metadata": {
        "id": "AcRJfCXF0WHB"
      },
      "execution_count": 15,
      "outputs": []
    },
    {
      "cell_type": "code",
      "source": [],
      "metadata": {
        "id": "OKKb0HjA0WJ7"
      },
      "execution_count": 15,
      "outputs": []
    },
    {
      "cell_type": "code",
      "source": [],
      "metadata": {
        "id": "f0yOr2ue0WNm"
      },
      "execution_count": 15,
      "outputs": []
    }
  ]
}