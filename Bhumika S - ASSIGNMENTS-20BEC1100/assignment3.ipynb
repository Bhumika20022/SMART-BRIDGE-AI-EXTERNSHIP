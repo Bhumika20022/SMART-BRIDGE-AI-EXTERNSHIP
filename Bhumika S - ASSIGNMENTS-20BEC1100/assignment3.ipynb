{
  "nbformat": 4,
  "nbformat_minor": 0,
  "metadata": {
    "colab": {
      "provenance": []
    },
    "kernelspec": {
      "name": "python3",
      "display_name": "Python 3"
    },
    "language_info": {
      "name": "python"
    }
  },
  "cells": [
    {
      "cell_type": "code",
      "execution_count": null,
      "metadata": {
        "colab": {
          "base_uri": "https://localhost:8080/"
        },
        "id": "St9ipZYHHEQG",
        "outputId": "a6f79678-d3bd-45f3-d30c-b532147b269b"
      },
      "outputs": [
        {
          "output_type": "stream",
          "name": "stdout",
          "text": [
            "Looking in indexes: https://pypi.org/simple, https://us-python.pkg.dev/colab-wheels/public/simple/\n",
            "Requirement already satisfied: kaggle in /usr/local/lib/python3.10/dist-packages (1.5.13)\n",
            "Requirement already satisfied: six>=1.10 in /usr/local/lib/python3.10/dist-packages (from kaggle) (1.16.0)\n",
            "Requirement already satisfied: certifi in /usr/local/lib/python3.10/dist-packages (from kaggle) (2022.12.7)\n",
            "Requirement already satisfied: python-dateutil in /usr/local/lib/python3.10/dist-packages (from kaggle) (2.8.2)\n",
            "Requirement already satisfied: requests in /usr/local/lib/python3.10/dist-packages (from kaggle) (2.27.1)\n",
            "Requirement already satisfied: tqdm in /usr/local/lib/python3.10/dist-packages (from kaggle) (4.65.0)\n",
            "Requirement already satisfied: python-slugify in /usr/local/lib/python3.10/dist-packages (from kaggle) (8.0.1)\n",
            "Requirement already satisfied: urllib3 in /usr/local/lib/python3.10/dist-packages (from kaggle) (1.26.15)\n",
            "Requirement already satisfied: text-unidecode>=1.3 in /usr/local/lib/python3.10/dist-packages (from python-slugify->kaggle) (1.3)\n",
            "Requirement already satisfied: charset-normalizer~=2.0.0 in /usr/local/lib/python3.10/dist-packages (from requests->kaggle) (2.0.12)\n",
            "Requirement already satisfied: idna<4,>=2.5 in /usr/local/lib/python3.10/dist-packages (from requests->kaggle) (3.4)\n"
          ]
        }
      ],
      "source": [
        "! pip install kaggle"
      ]
    },
    {
      "cell_type": "code",
      "source": [
        "\n",
        "from google.colab import drive\n",
        "drive.mount('/content/drive')"
      ],
      "metadata": {
        "colab": {
          "base_uri": "https://localhost:8080/"
        },
        "id": "lSLBeAB8HOfx",
        "outputId": "5b6d96ca-73da-4bdd-b1ac-a4f21c529957"
      },
      "execution_count": null,
      "outputs": [
        {
          "output_type": "stream",
          "name": "stdout",
          "text": [
            "Drive already mounted at /content/drive; to attempt to forcibly remount, call drive.mount(\"/content/drive\", force_remount=True).\n"
          ]
        }
      ]
    },
    {
      "cell_type": "code",
      "source": [
        "! mkdir ~/.kaggle"
      ],
      "metadata": {
        "colab": {
          "base_uri": "https://localhost:8080/"
        },
        "id": "bBDvrYWtHU7e",
        "outputId": "ad636712-536b-41d2-a751-6fcf106bdd30"
      },
      "execution_count": null,
      "outputs": [
        {
          "output_type": "stream",
          "name": "stdout",
          "text": [
            "mkdir: cannot create directory ‘/root/.kaggle’: File exists\n"
          ]
        }
      ]
    },
    {
      "cell_type": "code",
      "source": [
        "! cp kaggle.json ~/.kaggle/"
      ],
      "metadata": {
        "id": "tct5vlIhHaHB"
      },
      "execution_count": null,
      "outputs": []
    },
    {
      "cell_type": "code",
      "source": [
        "!cp /content/drive/MyDrive/kaggle.json ~/.kaggle/kaggle.json"
      ],
      "metadata": {
        "id": "WTqJ3k6EHell"
      },
      "execution_count": null,
      "outputs": []
    },
    {
      "cell_type": "code",
      "source": [
        "! chmod 600 ~/.kaggle/kaggle.json"
      ],
      "metadata": {
        "id": "k3goIeOEHiNL"
      },
      "execution_count": null,
      "outputs": []
    },
    {
      "cell_type": "code",
      "source": [
        "!kaggle datasets download -d akash2907/bird-species-classification"
      ],
      "metadata": {
        "colab": {
          "base_uri": "https://localhost:8080/"
        },
        "id": "hAhQcGIZHpuQ",
        "outputId": "902f5912-06f5-45a5-dfed-9537577f70ef"
      },
      "execution_count": null,
      "outputs": [
        {
          "output_type": "stream",
          "name": "stdout",
          "text": [
            "Downloading bird-species-classification.zip to /content\n",
            "100% 1.37G/1.37G [00:08<00:00, 243MB/s]\n",
            "100% 1.37G/1.37G [00:08<00:00, 182MB/s]\n"
          ]
        }
      ]
    },
    {
      "cell_type": "code",
      "source": [
        "!unzip bird-species-classification"
      ],
      "metadata": {
        "colab": {
          "base_uri": "https://localhost:8080/"
        },
        "id": "tKQAaghiH0oY",
        "outputId": "edf7b1b4-ae06-4aca-8f0e-b359b18189f3"
      },
      "execution_count": null,
      "outputs": [
        {
          "output_type": "stream",
          "name": "stdout",
          "text": [
            "Archive:  bird-species-classification.zip\n",
            "replace test_data/test_data/blasti/DSC_6396.jpg? [y]es, [n]o, [A]ll, [N]one, [r]ename: "
          ]
        }
      ]
    },
    {
      "cell_type": "code",
      "source": [
        "#data augumentation\n",
        "from tensorflow.keras.preprocessing.image import ImageDataGenerator"
      ],
      "metadata": {
        "id": "cQ_Gli2MH5a-"
      },
      "execution_count": null,
      "outputs": []
    },
    {
      "cell_type": "code",
      "source": [
        "train_datagen=ImageDataGenerator(rescale=1./255,zoom_range=0.2,horizontal_flip=True,vertical_flip=False)\n",
        "test_datagen=ImageDataGenerator(rescale=1./255)"
      ],
      "metadata": {
        "id": "HrRfIjJ6H7pR"
      },
      "execution_count": null,
      "outputs": []
    },
    {
      "cell_type": "code",
      "source": [
        "x_train=train_datagen.flow_from_directory(r\"/content/train_data/train_data\",target_size=(64,64),\n",
        "                                        class_mode='categorical',batch_size=24)"
      ],
      "metadata": {
        "colab": {
          "base_uri": "https://localhost:8080/"
        },
        "id": "LMx7SRn4IDBy",
        "outputId": "f093258d-66b4-4b9a-b57b-37a318ac23b6"
      },
      "execution_count": null,
      "outputs": [
        {
          "output_type": "stream",
          "name": "stdout",
          "text": [
            "Found 150 images belonging to 16 classes.\n"
          ]
        }
      ]
    },
    {
      "cell_type": "code",
      "source": [
        "x_test=test_datagen.flow_from_directory(r\"/content/test_data/test_data\",target_size=(64,64),\n",
        "                                        class_mode='categorical',batch_size=24)"
      ],
      "metadata": {
        "colab": {
          "base_uri": "https://localhost:8080/"
        },
        "id": "6ai6Jq6QIE6v",
        "outputId": "9810869d-016f-417e-cbce-4c665c1aa6d2"
      },
      "execution_count": null,
      "outputs": [
        {
          "output_type": "stream",
          "name": "stdout",
          "text": [
            "Found 157 images belonging to 16 classes.\n"
          ]
        }
      ]
    },
    {
      "cell_type": "code",
      "source": [
        "x_train.class_indices"
      ],
      "metadata": {
        "colab": {
          "base_uri": "https://localhost:8080/"
        },
        "id": "eMR8XDrpIHzb",
        "outputId": "ed382c18-61e1-47c2-d99a-400593613353"
      },
      "execution_count": null,
      "outputs": [
        {
          "output_type": "execute_result",
          "data": {
            "text/plain": [
              "{'blasti': 0,\n",
              " 'bonegl': 1,\n",
              " 'brhkyt': 2,\n",
              " 'cbrtsh': 3,\n",
              " 'cmnmyn': 4,\n",
              " 'gretit': 5,\n",
              " 'hilpig': 6,\n",
              " 'himbul': 7,\n",
              " 'himgri': 8,\n",
              " 'hsparo': 9,\n",
              " 'indvul': 10,\n",
              " 'jglowl': 11,\n",
              " 'lbicrw': 12,\n",
              " 'mgprob': 13,\n",
              " 'rebimg': 14,\n",
              " 'wcrsrt': 15}"
            ]
          },
          "metadata": {},
          "execution_count": 14
        }
      ]
    },
    {
      "cell_type": "code",
      "source": [
        "from tensorflow.keras.models import Sequential\n",
        "from tensorflow.keras.layers import Dense,Convolution2D,MaxPooling2D,Flatten"
      ],
      "metadata": {
        "id": "AMjDMvTtIJTu"
      },
      "execution_count": null,
      "outputs": []
    },
    {
      "cell_type": "code",
      "source": [
        "\n",
        "# Build a CNN block\n",
        "\n",
        "model = Sequential() # Initializing sequential model\n",
        "model.add(Convolution2D(32,(3,3),activation='relu',input_shape=(64,64,3))) # convolution layer\n",
        "model.add(MaxPooling2D(pool_size=(2, 2))) # Max pooling layer\n",
        "model.add(Flatten()) # Flatten layer\n",
        "model.add(Dense(300,activation='relu')) # Hidden layer 1\n",
        "model.add(Dense(150,activation='relu')) # Hidden layer 2\n",
        "model.add(Dense(16,activation='softmax')) # Output layer"
      ],
      "metadata": {
        "id": "FG4tvQUTILLo"
      },
      "execution_count": null,
      "outputs": []
    },
    {
      "cell_type": "code",
      "source": [
        "\n",
        "# Compiling the model\n",
        "\n",
        "model.compile(optimizer='adam',loss='categorical_crossentropy',metrics=['accuracy'])"
      ],
      "metadata": {
        "id": "xynqGOXYIM7V"
      },
      "execution_count": null,
      "outputs": []
    },
    {
      "cell_type": "code",
      "source": [
        "\n",
        "# Train model\n",
        "\n",
        "model.fit_generator(x_train,\n",
        "                    steps_per_epoch=len(x_train),\n",
        "                    epochs=10,\n",
        "                    validation_data=x_test,\n",
        "                    validation_steps=len(x_test))"
      ],
      "metadata": {
        "colab": {
          "base_uri": "https://localhost:8080/"
        },
        "id": "o-ZhgtywITml",
        "outputId": "61fb3d32-de78-42e2-e372-4d3f321db963"
      },
      "execution_count": null,
      "outputs": [
        {
          "output_type": "stream",
          "name": "stderr",
          "text": [
            "<ipython-input-31-a1c711957d2c>:3: UserWarning: `Model.fit_generator` is deprecated and will be removed in a future version. Please use `Model.fit`, which supports generators.\n",
            "  model.fit_generator(x_train,\n"
          ]
        },
        {
          "output_type": "stream",
          "name": "stdout",
          "text": [
            "Epoch 1/10\n",
            "7/7 [==============================] - 139s 22s/step - loss: 4.2062 - accuracy: 0.0667 - val_loss: 3.3319 - val_accuracy: 0.0701\n",
            "Epoch 2/10\n",
            "7/7 [==============================] - 126s 20s/step - loss: 2.8491 - accuracy: 0.1867 - val_loss: 2.7842 - val_accuracy: 0.1274\n",
            "Epoch 3/10\n",
            "7/7 [==============================] - 130s 20s/step - loss: 2.5373 - accuracy: 0.2000 - val_loss: 2.9216 - val_accuracy: 0.1592\n",
            "Epoch 4/10\n",
            "7/7 [==============================] - 102s 16s/step - loss: 2.4841 - accuracy: 0.2133 - val_loss: 2.7752 - val_accuracy: 0.1338\n",
            "Epoch 5/10\n",
            "7/7 [==============================] - 126s 21s/step - loss: 2.3636 - accuracy: 0.2533 - val_loss: 2.7160 - val_accuracy: 0.1592\n",
            "Epoch 6/10\n",
            "7/7 [==============================] - 128s 20s/step - loss: 2.1118 - accuracy: 0.4000 - val_loss: 2.7462 - val_accuracy: 0.1911\n",
            "Epoch 7/10\n",
            "7/7 [==============================] - 126s 20s/step - loss: 2.0096 - accuracy: 0.3933 - val_loss: 2.6906 - val_accuracy: 0.1783\n",
            "Epoch 8/10\n",
            "7/7 [==============================] - 128s 20s/step - loss: 1.8627 - accuracy: 0.3733 - val_loss: 2.7637 - val_accuracy: 0.2229\n",
            "Epoch 9/10\n",
            "7/7 [==============================] - 106s 17s/step - loss: 1.6837 - accuracy: 0.4933 - val_loss: 2.6832 - val_accuracy: 0.2420\n",
            "Epoch 10/10\n",
            "7/7 [==============================] - 126s 20s/step - loss: 1.5618 - accuracy: 0.4600 - val_loss: 2.6913 - val_accuracy: 0.2675\n"
          ]
        },
        {
          "output_type": "execute_result",
          "data": {
            "text/plain": [
              "<keras.callbacks.History at 0x7fb7b3f23a00>"
            ]
          },
          "metadata": {},
          "execution_count": 31
        }
      ]
    },
    {
      "cell_type": "code",
      "source": [
        "# Save model\n",
        "\n",
        "model.save('birds.h5')"
      ],
      "metadata": {
        "id": "G53C_IE2Oeev"
      },
      "execution_count": null,
      "outputs": []
    },
    {
      "cell_type": "code",
      "source": [
        "from tensorflow.keras.preprocessing import image\n",
        "import numpy as np"
      ],
      "metadata": {
        "id": "PzlQvv_uOikO"
      },
      "execution_count": null,
      "outputs": []
    },
    {
      "cell_type": "code",
      "source": [
        "\n",
        "img = image.load_img('/content/rebimg.png',target_size=(64,64)) # Reading image\n",
        "img"
      ],
      "metadata": {
        "colab": {
          "base_uri": "https://localhost:8080/",
          "height": 81
        },
        "id": "93YpnDkIPMwP",
        "outputId": "3f713eb0-0f90-45ba-ebfb-ac5cda5e25c7"
      },
      "execution_count": null,
      "outputs": [
        {
          "output_type": "execute_result",
          "data": {
            "text/plain": [
              "<PIL.Image.Image image mode=RGB size=64x64 at 0x7FB727D05E10>"
            ],
            "image/png": "[encoded data removed]"
          },
          "metadata": {},
          "execution_count": 34
        }
      ]
    },
    {
      "cell_type": "code",
      "source": [
        "\n",
        "x = image.img_to_array(img)\n",
        "x"
      ],
      "metadata": {
        "colab": {
          "base_uri": "https://localhost:8080/"
        },
        "id": "rsd4kIuiPM7S",
        "outputId": "7fac0147-0315-409d-cd0a-900ef8d0463c"
      },
      "execution_count": null,
      "outputs": [
        {
          "output_type": "execute_result",
          "data": {
            "text/plain": [
              "array([[[165., 192.,  97.],\n",
              "        [172., 195., 114.],\n",
              "        [174., 196., 121.],\n",
              "        ...,\n",
              "        [218., 235., 142.],\n",
              "        [219., 235., 146.],\n",
              "        [220., 236., 147.]],\n",
              "\n",
              "       [[164., 193.,  94.],\n",
              "        [171., 195., 110.],\n",
              "        [173., 196., 117.],\n",
              "        ...,\n",
              "        [219., 235., 144.],\n",
              "        [219., 236., 147.],\n",
              "        [220., 236., 153.]],\n",
              "\n",
              "       [[158., 191.,  82.],\n",
              "        [169., 193., 105.],\n",
              "        [171., 194., 111.],\n",
              "        ...,\n",
              "        [220., 236., 147.],\n",
              "        [220., 237., 153.],\n",
              "        [220., 237., 157.]],\n",
              "\n",
              "       ...,\n",
              "\n",
              "       [[101., 161., 108.],\n",
              "        [104., 158., 107.],\n",
              "        [103., 156., 100.],\n",
              "        ...,\n",
              "        [151., 177., 115.],\n",
              "        [157., 183., 129.],\n",
              "        [170., 188., 144.]],\n",
              "\n",
              "       [[105., 163., 110.],\n",
              "        [109., 162., 108.],\n",
              "        [111., 160., 104.],\n",
              "        ...,\n",
              "        [114., 156.,  62.],\n",
              "        [118., 159.,  71.],\n",
              "        [151., 172., 117.]],\n",
              "\n",
              "       [[108., 166., 110.],\n",
              "        [112., 164., 108.],\n",
              "        [113., 162., 106.],\n",
              "        ...,\n",
              "        [ 90., 139.,  32.],\n",
              "        [ 94., 143.,  39.],\n",
              "        [131., 162.,  97.]]], dtype=float32)"
            ]
          },
          "metadata": {},
          "execution_count": 35
        }
      ]
    },
    {
      "cell_type": "code",
      "source": [
        "img = np.expand_dims(x,axis=0)\n"
      ],
      "metadata": {
        "id": "-B-Q3MmePWkj"
      },
      "execution_count": null,
      "outputs": []
    },
    {
      "cell_type": "code",
      "source": [
        "\n",
        "img\n"
      ],
      "metadata": {
        "colab": {
          "base_uri": "https://localhost:8080/"
        },
        "id": "CnKinOZYPX_v",
        "outputId": "f4f5c173-9396-49db-9241-cdfd24c89cb8"
      },
      "execution_count": null,
      "outputs": [
        {
          "output_type": "execute_result",
          "data": {
            "text/plain": [
              "array([[[[165., 192.,  97.],\n",
              "         [172., 195., 114.],\n",
              "         [174., 196., 121.],\n",
              "         ...,\n",
              "         [218., 235., 142.],\n",
              "         [219., 235., 146.],\n",
              "         [220., 236., 147.]],\n",
              "\n",
              "        [[164., 193.,  94.],\n",
              "         [171., 195., 110.],\n",
              "         [173., 196., 117.],\n",
              "         ...,\n",
              "         [219., 235., 144.],\n",
              "         [219., 236., 147.],\n",
              "         [220., 236., 153.]],\n",
              "\n",
              "        [[158., 191.,  82.],\n",
              "         [169., 193., 105.],\n",
              "         [171., 194., 111.],\n",
              "         ...,\n",
              "         [220., 236., 147.],\n",
              "         [220., 237., 153.],\n",
              "         [220., 237., 157.]],\n",
              "\n",
              "        ...,\n",
              "\n",
              "        [[101., 161., 108.],\n",
              "         [104., 158., 107.],\n",
              "         [103., 156., 100.],\n",
              "         ...,\n",
              "         [151., 177., 115.],\n",
              "         [157., 183., 129.],\n",
              "         [170., 188., 144.]],\n",
              "\n",
              "        [[105., 163., 110.],\n",
              "         [109., 162., 108.],\n",
              "         [111., 160., 104.],\n",
              "         ...,\n",
              "         [114., 156.,  62.],\n",
              "         [118., 159.,  71.],\n",
              "         [151., 172., 117.]],\n",
              "\n",
              "        [[108., 166., 110.],\n",
              "         [112., 164., 108.],\n",
              "         [113., 162., 106.],\n",
              "         ...,\n",
              "         [ 90., 139.,  32.],\n",
              "         [ 94., 143.,  39.],\n",
              "         [131., 162.,  97.]]]], dtype=float32)"
            ]
          },
          "metadata": {},
          "execution_count": 37
        }
      ]
    },
    {
      "cell_type": "code",
      "source": [
        "\n",
        "pred = model.predict(img)\n",
        "pred"
      ],
      "metadata": {
        "colab": {
          "base_uri": "https://localhost:8080/"
        },
        "id": "iDCycXbmPgst",
        "outputId": "9bc3c308-18bb-409a-8128-0ad7ee44c9c8"
      },
      "execution_count": null,
      "outputs": [
        {
          "output_type": "stream",
          "name": "stdout",
          "text": [
            "1/1 [==============================] - 0s 129ms/step\n"
          ]
        },
        {
          "output_type": "execute_result",
          "data": {
            "text/plain": [
              "array([[1., 0., 0., 0., 0., 0., 0., 0., 0., 0., 0., 0., 0., 0., 0., 0.]],\n",
              "      dtype=float32)"
            ]
          },
          "metadata": {},
          "execution_count": 38
        }
      ]
    },
    {
      "cell_type": "code",
      "source": [
        "\n",
        "np.argmax(pred)"
      ],
      "metadata": {
        "colab": {
          "base_uri": "https://localhost:8080/"
        },
        "id": "1E2bS6zfPiZ3",
        "outputId": "fcba1a82-7b05-4f30-fc6e-00d4cb1069e9"
      },
      "execution_count": null,
      "outputs": [
        {
          "output_type": "execute_result",
          "data": {
            "text/plain": [
              "0"
            ]
          },
          "metadata": {},
          "execution_count": 39
        }
      ]
    },
    {
      "cell_type": "code",
      "source": [
        "op = ['blasti',\n",
        " 'bonegl',\n",
        " 'brhkyt',\n",
        " 'cbrtsh',\n",
        " 'cmnmyn',\n",
        " 'gretit',\n",
        " 'hilpig',\n",
        " 'himbul',\n",
        " 'himgri',\n",
        " 'hsparo',\n",
        " 'indvul',\n",
        " 'jglowl',\n",
        " 'lbicrw',\n",
        " 'mgprob',\n",
        " 'rebimg',\n",
        " 'wcrsrt'] # Creating list\n",
        "op[np.argmax(pred)] # List indexing with output"
      ],
      "metadata": {
        "colab": {
          "base_uri": "https://localhost:8080/",
          "height": 36
        },
        "id": "EW0F2miXPmKq",
        "outputId": "91e7b7aa-8dfe-4d73-837b-38bc738241e0"
      },
      "execution_count": null,
      "outputs": [
        {
          "output_type": "execute_result",
          "data": {
            "text/plain": [
              "'blasti'"
            ],
            "application/vnd.google.colaboratory.intrinsic+json": {
              "type": "string"
            }
          },
          "metadata": {},
          "execution_count": 40
        }
      ]
    },
    {
      "cell_type": "code",
      "source": [
        "\n",
        "img1 = image.load_img('/content/testpng.png',target_size=(64,64)) # Reading image\n",
        "img1\n"
      ],
      "metadata": {
        "colab": {
          "base_uri": "https://localhost:8080/",
          "height": 81
        },
        "id": "3MSHsIGYQIxp",
        "outputId": "4b3cf478-7b43-4c3e-8119-67eb4b03818e"
      },
      "execution_count": null,
      "outputs": [
        {
          "output_type": "execute_result",
          "data": {
            "text/plain": [
              "<PIL.Image.Image image mode=RGB size=64x64 at 0x7FB728082830>"
            ],
            "image/png": "[encoded data removed]"
          },
          "metadata": {},
          "execution_count": 41
        }
      ]
    },
    {
      "cell_type": "code",
      "source": [
        "x = image.img_to_array(img1)\n",
        "x"
      ],
      "metadata": {
        "colab": {
          "base_uri": "https://localhost:8080/"
        },
        "id": "ErzOCDjUQQAn",
        "outputId": "02299fe8-46fd-4da8-ab58-57dc31544328"
      },
      "execution_count": null,
      "outputs": [
        {
          "output_type": "execute_result",
          "data": {
            "text/plain": [
              "array([[[ 98., 114.,  26.],\n",
              "        [ 92., 109.,  23.],\n",
              "        [ 92., 106.,  23.],\n",
              "        ...,\n",
              "        [167., 133.,  86.],\n",
              "        [171., 132.,  89.],\n",
              "        [171., 129.,  90.]],\n",
              "\n",
              "       [[100., 116.,  28.],\n",
              "        [ 94., 111.,  25.],\n",
              "        [ 94., 107.,  25.],\n",
              "        ...,\n",
              "        [167., 133.,  86.],\n",
              "        [169., 131.,  87.],\n",
              "        [169., 127.,  88.]],\n",
              "\n",
              "       [[ 98., 112.,  28.],\n",
              "        [ 97., 111.,  28.],\n",
              "        [ 95., 108.,  28.],\n",
              "        ...,\n",
              "        [166., 132.,  87.],\n",
              "        [169., 130.,  87.],\n",
              "        [171., 129.,  88.]],\n",
              "\n",
              "       ...,\n",
              "\n",
              "       [[171., 132.,  93.],\n",
              "        [174., 134.,  95.],\n",
              "        [176., 136.,  97.],\n",
              "        ...,\n",
              "        [147., 124.,  97.],\n",
              "        [130., 117.,  94.],\n",
              "        [167., 149., 129.]],\n",
              "\n",
              "       [[174., 135.,  95.],\n",
              "        [175., 136.,  97.],\n",
              "        [177., 138.,  99.],\n",
              "        ...,\n",
              "        [156., 138., 112.],\n",
              "        [159., 147., 125.],\n",
              "        [174., 158., 139.]],\n",
              "\n",
              "       [[176., 137.,  96.],\n",
              "        [177., 138.,  98.],\n",
              "        [179., 140., 101.],\n",
              "        ...,\n",
              "        [186., 165., 131.],\n",
              "        [189., 171., 143.],\n",
              "        [151., 136., 112.]]], dtype=float32)"
            ]
          },
          "metadata": {},
          "execution_count": 42
        }
      ]
    },
    {
      "cell_type": "code",
      "source": [
        "\n",
        "img1 = np.expand_dims(x,axis=0)"
      ],
      "metadata": {
        "id": "sIgJPEhVQTDb"
      },
      "execution_count": null,
      "outputs": []
    },
    {
      "cell_type": "code",
      "source": [
        "\n",
        "img1"
      ],
      "metadata": {
        "colab": {
          "base_uri": "https://localhost:8080/"
        },
        "id": "DJ5KNvWmQVc0",
        "outputId": "67b4ae8c-57a1-4765-cf1b-5e10ad16a52e"
      },
      "execution_count": null,
      "outputs": [
        {
          "output_type": "execute_result",
          "data": {
            "text/plain": [
              "array([[[[ 98., 114.,  26.],\n",
              "         [ 92., 109.,  23.],\n",
              "         [ 92., 106.,  23.],\n",
              "         ...,\n",
              "         [167., 133.,  86.],\n",
              "         [171., 132.,  89.],\n",
              "         [171., 129.,  90.]],\n",
              "\n",
              "        [[100., 116.,  28.],\n",
              "         [ 94., 111.,  25.],\n",
              "         [ 94., 107.,  25.],\n",
              "         ...,\n",
              "         [167., 133.,  86.],\n",
              "         [169., 131.,  87.],\n",
              "         [169., 127.,  88.]],\n",
              "\n",
              "        [[ 98., 112.,  28.],\n",
              "         [ 97., 111.,  28.],\n",
              "         [ 95., 108.,  28.],\n",
              "         ...,\n",
              "         [166., 132.,  87.],\n",
              "         [169., 130.,  87.],\n",
              "         [171., 129.,  88.]],\n",
              "\n",
              "        ...,\n",
              "\n",
              "        [[171., 132.,  93.],\n",
              "         [174., 134.,  95.],\n",
              "         [176., 136.,  97.],\n",
              "         ...,\n",
              "         [147., 124.,  97.],\n",
              "         [130., 117.,  94.],\n",
              "         [167., 149., 129.]],\n",
              "\n",
              "        [[174., 135.,  95.],\n",
              "         [175., 136.,  97.],\n",
              "         [177., 138.,  99.],\n",
              "         ...,\n",
              "         [156., 138., 112.],\n",
              "         [159., 147., 125.],\n",
              "         [174., 158., 139.]],\n",
              "\n",
              "        [[176., 137.,  96.],\n",
              "         [177., 138.,  98.],\n",
              "         [179., 140., 101.],\n",
              "         ...,\n",
              "         [186., 165., 131.],\n",
              "         [189., 171., 143.],\n",
              "         [151., 136., 112.]]]], dtype=float32)"
            ]
          },
          "metadata": {},
          "execution_count": 44
        }
      ]
    },
    {
      "cell_type": "code",
      "source": [
        "\n",
        "pred = model.predict(img1)\n",
        "pred\n"
      ],
      "metadata": {
        "colab": {
          "base_uri": "https://localhost:8080/"
        },
        "id": "OflCeKe9QXT2",
        "outputId": "94d02bc1-2e44-4560-e344-f015742ad2e9"
      },
      "execution_count": null,
      "outputs": [
        {
          "output_type": "stream",
          "name": "stdout",
          "text": [
            "1/1 [==============================] - 0s 32ms/step\n"
          ]
        },
        {
          "output_type": "execute_result",
          "data": {
            "text/plain": [
              "array([[1., 0., 0., 0., 0., 0., 0., 0., 0., 0., 0., 0., 0., 0., 0., 0.]],\n",
              "      dtype=float32)"
            ]
          },
          "metadata": {},
          "execution_count": 45
        }
      ]
    },
    {
      "cell_type": "code",
      "source": [
        "\n",
        "np.argmax(pred)"
      ],
      "metadata": {
        "colab": {
          "base_uri": "https://localhost:8080/"
        },
        "id": "09rJgcOQQZ-Z",
        "outputId": "ad15cf02-2706-421d-cc39-a68a6bf8086d"
      },
      "execution_count": null,
      "outputs": [
        {
          "output_type": "execute_result",
          "data": {
            "text/plain": [
              "0"
            ]
          },
          "metadata": {},
          "execution_count": 46
        }
      ]
    },
    {
      "cell_type": "code",
      "source": [
        "op = ['blasti',\n",
        " 'bonegl',\n",
        " 'brhkyt',\n",
        " 'cbrtsh',\n",
        " 'cmnmyn',\n",
        " 'gretit',\n",
        " 'hilpig',\n",
        " 'himbul',\n",
        " 'himgri',\n",
        " 'hsparo',\n",
        " 'indvul',\n",
        " 'jglowl',\n",
        " 'lbicrw',\n",
        " 'mgprob',\n",
        " 'rebimg',\n",
        " 'wcrsrt'] # Creating list\n",
        "op[np.argmax(pred)] # List indexing with output"
      ],
      "metadata": {
        "colab": {
          "base_uri": "https://localhost:8080/",
          "height": 36
        },
        "id": "q9ppBZboQfmG",
        "outputId": "b932f315-f00a-451a-e83c-c885fc4d209d"
      },
      "execution_count": null,
      "outputs": [
        {
          "output_type": "execute_result",
          "data": {
            "text/plain": [
              "'blasti'"
            ],
            "application/vnd.google.colaboratory.intrinsic+json": {
              "type": "string"
            }
          },
          "metadata": {},
          "execution_count": 47
        }
      ]
    }
  ]
}